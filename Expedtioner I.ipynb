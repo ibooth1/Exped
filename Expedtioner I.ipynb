{
  "cells": [
    {
      "metadata": {
        "trusted": true
      },
      "cell_type": "code",
      "source": "import pandas as pd\nimport numpy as np\n\nloc = 'fallcampdata/exped.xls'\ndf = pd.read_excel(loc)",
      "execution_count": 65,
      "outputs": []
    },
    {
      "metadata": {
        "trusted": true
      },
      "cell_type": "code",
      "source": "df.head",
      "execution_count": 97,
      "outputs": [
        {
          "output_type": "execute_result",
          "execution_count": 97,
          "data": {
            "text/plain": "<bound method NDFrame.head of      Transid       WHEN     WHERE                          WHAT      HOW  \\\n0          1 2002-11-30     Paris  Exploring in 10 Easy Lessons    Store   \n1          2 2002-10-20    London                  Camel saddle  Catalog   \n2          3 2002-11-07     Paris                       Compass    Store   \n3          4 2002-07-28    London        Geo positioning system    Store   \n4          5 2002-08-05     Paris                       Hammock    Store   \n5          6 2002-08-07     Paris                  Camel saddle    Store   \n6          7 2002-06-27     Paris        Geo positioning system    Store   \n7          8 2002-05-11    London        Geo positioning system    Store   \n8          9 2002-11-03     Paris                       Hammock    Store   \n9         10 2002-10-19    London                  Camel saddle  Catalog   \n10        11 2002-07-16    London            Boots - snakeproof    Store   \n11        12 2002-09-14     Paris        Geo positioning system    Store   \n12        13 2002-12-20    London    How to Win Foreign Friends    Store   \n13        14 2002-10-25    London                       Compass  Catalog   \n14        15 2002-03-30  New York                      Map case    Store   \n15        16 2002-09-07     Paris        Geo positioning system  Catalog   \n16        17 2002-07-30    London                       Hammock    Store   \n17        18 2002-12-13  New York           Elephant polo stick    Store   \n18        19 2002-04-29     Tokyo                  Camel saddle  Catalog   \n19        20 2002-07-10    London                       Hammock      Web   \n20        21 2002-02-07     Paris           Elephant polo stick  Catalog   \n21        22 2002-01-25     Paris          Hat - polar explorer    Store   \n22        23 2002-09-15    London    How to Win Foreign Friends  Catalog   \n23        24 2002-03-12     Paris                       Hammock  Catalog   \n24        25 2002-06-30    Sydney                       Compass    Store   \n25        26 2002-04-27     Paris        Geo positioning system    Store   \n26        27 2002-08-18     Paris                  Camel saddle    Store   \n27        28 2002-09-08    London                       Compass      Web   \n28        29 2002-10-04  New York                       Compass    Store   \n29        30 2002-11-28    London                       Hammock    Store   \n..       ...        ...       ...                           ...      ...   \n970      971 2002-10-02    London        Geo positioning system    Store   \n971      972 2002-02-03     Paris           Elephant polo stick    Store   \n972      973 2002-04-14     Tokyo        Geo positioning system    Store   \n973      974 2002-08-08     Paris                       Hammock    Store   \n974      975 2002-06-23     Paris          Hat - polar explorer    Store   \n975      976 2002-02-15     Tokyo        Geo positioning system  Catalog   \n976      977 2002-04-17    London          Hat - polar explorer  Catalog   \n977      978 2002-11-29     Paris          Hat - polar explorer  Catalog   \n978      979 2002-03-31    Sydney          Hat - polar explorer    Store   \n979      980 2002-06-04    Sydney    How to Win Foreign Friends    Store   \n980      981 2002-03-29     Tokyo                  Camel saddle    Store   \n981      982 2002-05-21     Tokyo          Hat - polar explorer    Store   \n982      983 2002-04-27    London           Elephant polo stick    Store   \n983      984 2002-11-15    Sydney                  Camel saddle    Store   \n984      985 2002-07-05    London                  Camel saddle    Store   \n985      986 2002-09-22    London                       Hammock    Store   \n986      987 2002-04-09    London                       Compass  Catalog   \n987      988 2002-01-25     Paris           Elephant polo stick    Store   \n988      989 2002-06-12    London        Geo positioning system  Catalog   \n989      990 2002-01-21     Paris                       Hammock    Store   \n990      991 2002-06-01     Paris          Hat - polar explorer  Catalog   \n991      992 2002-02-24  New York                      Map case    Store   \n992      993 2002-03-05     Paris           Elephant polo stick    Store   \n993      994 2002-07-14    London        Geo positioning system  Catalog   \n994      995 2002-04-07     Paris          Hat - polar explorer    Store   \n995      996 2002-02-10    London                  Camel saddle  Catalog   \n996      997 2002-03-13    London        Geo positioning system    Store   \n997      998 2002-09-22    London                      Map case    Store   \n998      999 2002-04-23  New York  Exploring in 10 Easy Lessons    Store   \n999     1000 2002-07-23  New York            Boots - snakeproof      Web   \n\n     QUANTITY  REVENUE  QUARTER  \n0           4       80        4  \n1           3     1794        4  \n2           2       16        4  \n3           3      885        3  \n4           3      165        3  \n5           2     1196        3  \n6           2      590        2  \n7           5     1475        2  \n8           3      165        4  \n9           4     2392        4  \n10          2      190        3  \n11          2      590        3  \n12          5      130        4  \n13          5       40        4  \n14          5       75        1  \n15          2      590        3  \n16          4      220        3  \n17          3     1056        4  \n18          2     1196        2  \n19          5      275        3  \n20          5     1760        1  \n21          3      102        1  \n22          4      104        3  \n23          5      275        1  \n24          4       32        2  \n25          4     1180        2  \n26          2     1196        3  \n27          2       16        3  \n28          3       24        4  \n29          3      165        4  \n..        ...      ...      ...  \n970         3      885        4  \n971         5     1760        1  \n972         2      590        2  \n973         1       55        3  \n974         3      102        2  \n975         2      590        1  \n976         5      170        2  \n977         5      170        4  \n978         2       68        1  \n979         1       26        2  \n980         3     1794        1  \n981         4      136        2  \n982         3     1056        2  \n983         4     2392        4  \n984         5     2990        3  \n985         2      110        3  \n986         2       16        2  \n987         4     1408        1  \n988         3      885        2  \n989         1       55        1  \n990         3      102        2  \n991         3       45        1  \n992         2      704        1  \n993         3      885        3  \n994         2       68        2  \n995         5     2990        1  \n996         4     1180        1  \n997         5       75        3  \n998         4       80        2  \n999         4      380        3  \n\n[1000 rows x 8 columns]>"
          },
          "metadata": {}
        }
      ]
    },
    {
      "metadata": {
        "trusted": true
      },
      "cell_type": "code",
      "source": "df.WHEN.dtype\n",
      "execution_count": 67,
      "outputs": [
        {
          "output_type": "execute_result",
          "execution_count": 67,
          "data": {
            "text/plain": "dtype('<M8[ns]')"
          },
          "metadata": {}
        }
      ]
    },
    {
      "metadata": {
        "trusted": true
      },
      "cell_type": "code",
      "source": "# Use .dt.month to call just the months\ndf[\"QUARTER\"] = df[\"WHEN\"].dt.quarter\ndf['MONTH'] = df[\"WHEN\"].dt.month\ndf.head()",
      "execution_count": 99,
      "outputs": [
        {
          "output_type": "execute_result",
          "execution_count": 99,
          "data": {
            "text/html": "<div>\n<style>\n    .dataframe thead tr:only-child th {\n        text-align: right;\n    }\n\n    .dataframe thead th {\n        text-align: left;\n    }\n\n    .dataframe tbody tr th {\n        vertical-align: top;\n    }\n</style>\n<table border=\"1\" class=\"dataframe\">\n  <thead>\n    <tr style=\"text-align: right;\">\n      <th></th>\n      <th>Transid</th>\n      <th>WHEN</th>\n      <th>WHERE</th>\n      <th>WHAT</th>\n      <th>HOW</th>\n      <th>QUANTITY</th>\n      <th>REVENUE</th>\n      <th>QUARTER</th>\n      <th>MONTH</th>\n    </tr>\n  </thead>\n  <tbody>\n    <tr>\n      <th>0</th>\n      <td>1</td>\n      <td>2002-11-30</td>\n      <td>Paris</td>\n      <td>Exploring in 10 Easy Lessons</td>\n      <td>Store</td>\n      <td>4</td>\n      <td>80</td>\n      <td>4</td>\n      <td>11</td>\n    </tr>\n    <tr>\n      <th>1</th>\n      <td>2</td>\n      <td>2002-10-20</td>\n      <td>London</td>\n      <td>Camel saddle</td>\n      <td>Catalog</td>\n      <td>3</td>\n      <td>1794</td>\n      <td>4</td>\n      <td>10</td>\n    </tr>\n    <tr>\n      <th>2</th>\n      <td>3</td>\n      <td>2002-11-07</td>\n      <td>Paris</td>\n      <td>Compass</td>\n      <td>Store</td>\n      <td>2</td>\n      <td>16</td>\n      <td>4</td>\n      <td>11</td>\n    </tr>\n    <tr>\n      <th>3</th>\n      <td>4</td>\n      <td>2002-07-28</td>\n      <td>London</td>\n      <td>Geo positioning system</td>\n      <td>Store</td>\n      <td>3</td>\n      <td>885</td>\n      <td>3</td>\n      <td>7</td>\n    </tr>\n    <tr>\n      <th>4</th>\n      <td>5</td>\n      <td>2002-08-05</td>\n      <td>Paris</td>\n      <td>Hammock</td>\n      <td>Store</td>\n      <td>3</td>\n      <td>165</td>\n      <td>3</td>\n      <td>8</td>\n    </tr>\n  </tbody>\n</table>\n</div>",
            "text/plain": "   Transid       WHEN   WHERE                          WHAT      HOW  \\\n0        1 2002-11-30   Paris  Exploring in 10 Easy Lessons    Store   \n1        2 2002-10-20  London                  Camel saddle  Catalog   \n2        3 2002-11-07   Paris                       Compass    Store   \n3        4 2002-07-28  London        Geo positioning system    Store   \n4        5 2002-08-05   Paris                       Hammock    Store   \n\n   QUANTITY  REVENUE  QUARTER  MONTH  \n0         4       80        4     11  \n1         3     1794        4     10  \n2         2       16        4     11  \n3         3      885        3      7  \n4         3      165        3      8  "
          },
          "metadata": {}
        }
      ]
    },
    {
      "metadata": {
        "slideshow": {
          "slide_type": "subslide"
        }
      },
      "cell_type": "markdown",
      "source": "#### a) What was the value of catalog sales for London in the first quarter?\n\npd.pivot_table(df, index = [\"WHERE\", \"HOW\", 'QUARTER'], values = 'REVENUE', aggfunc = np.sum, margins=True, margins_name = 'Total')"
    },
    {
      "metadata": {},
      "cell_type": "markdown",
      "source": "#### b) What percent of the total annual sales were Tokyo Web sales in the fourth quarter?"
    },
    {
      "metadata": {
        "trusted": true,
        "scrolled": true
      },
      "cell_type": "code",
      "source": "pd.pivot_table(df, index = [\"WHERE\", \"HOW\", 'QUARTER'], values = 'REVENUE', aggfunc = np.sum, margins=True, margins_name = 'Total')",
      "execution_count": 76,
      "outputs": [
        {
          "output_type": "execute_result",
          "execution_count": 76,
          "data": {
            "text/html": "<div>\n<style>\n    .dataframe thead tr:only-child th {\n        text-align: right;\n    }\n\n    .dataframe thead th {\n        text-align: left;\n    }\n\n    .dataframe tbody tr th {\n        vertical-align: top;\n    }\n</style>\n<table border=\"1\" class=\"dataframe\">\n  <thead>\n    <tr style=\"text-align: right;\">\n      <th></th>\n      <th></th>\n      <th></th>\n      <th>REVENUE</th>\n    </tr>\n    <tr>\n      <th>WHERE</th>\n      <th>HOW</th>\n      <th>QUARTER</th>\n      <th></th>\n    </tr>\n  </thead>\n  <tbody>\n    <tr>\n      <th rowspan=\"12\" valign=\"top\">London</th>\n      <th rowspan=\"4\" valign=\"top\">Catalog</th>\n      <th>1</th>\n      <td>7810.0</td>\n    </tr>\n    <tr>\n      <th>2</th>\n      <td>11939.0</td>\n    </tr>\n    <tr>\n      <th>3</th>\n      <td>13740.0</td>\n    </tr>\n    <tr>\n      <th>4</th>\n      <td>16821.0</td>\n    </tr>\n    <tr>\n      <th rowspan=\"4\" valign=\"top\">Store</th>\n      <th>1</th>\n      <td>46399.0</td>\n    </tr>\n    <tr>\n      <th>2</th>\n      <td>22447.0</td>\n    </tr>\n    <tr>\n      <th>3</th>\n      <td>38745.0</td>\n    </tr>\n    <tr>\n      <th>4</th>\n      <td>43424.0</td>\n    </tr>\n    <tr>\n      <th rowspan=\"4\" valign=\"top\">Web</th>\n      <th>1</th>\n      <td>773.0</td>\n    </tr>\n    <tr>\n      <th>2</th>\n      <td>3233.0</td>\n    </tr>\n    <tr>\n      <th>3</th>\n      <td>5820.0</td>\n    </tr>\n    <tr>\n      <th>4</th>\n      <td>3183.0</td>\n    </tr>\n    <tr>\n      <th rowspan=\"12\" valign=\"top\">New York</th>\n      <th rowspan=\"4\" valign=\"top\">Catalog</th>\n      <th>1</th>\n      <td>497.0</td>\n    </tr>\n    <tr>\n      <th>2</th>\n      <td>3568.0</td>\n    </tr>\n    <tr>\n      <th>3</th>\n      <td>3126.0</td>\n    </tr>\n    <tr>\n      <th>4</th>\n      <td>1521.0</td>\n    </tr>\n    <tr>\n      <th rowspan=\"4\" valign=\"top\">Store</th>\n      <th>1</th>\n      <td>7024.0</td>\n    </tr>\n    <tr>\n      <th>2</th>\n      <td>7313.0</td>\n    </tr>\n    <tr>\n      <th>3</th>\n      <td>6980.0</td>\n    </tr>\n    <tr>\n      <th>4</th>\n      <td>6743.0</td>\n    </tr>\n    <tr>\n      <th rowspan=\"4\" valign=\"top\">Web</th>\n      <th>1</th>\n      <td>136.0</td>\n    </tr>\n    <tr>\n      <th>2</th>\n      <td>1437.0</td>\n    </tr>\n    <tr>\n      <th>3</th>\n      <td>458.0</td>\n    </tr>\n    <tr>\n      <th>4</th>\n      <td>320.0</td>\n    </tr>\n    <tr>\n      <th rowspan=\"12\" valign=\"top\">Paris</th>\n      <th rowspan=\"4\" valign=\"top\">Catalog</th>\n      <th>1</th>\n      <td>7687.0</td>\n    </tr>\n    <tr>\n      <th>2</th>\n      <td>6917.0</td>\n    </tr>\n    <tr>\n      <th>3</th>\n      <td>12954.0</td>\n    </tr>\n    <tr>\n      <th>4</th>\n      <td>4608.0</td>\n    </tr>\n    <tr>\n      <th rowspan=\"4\" valign=\"top\">Store</th>\n      <th>1</th>\n      <td>24709.0</td>\n    </tr>\n    <tr>\n      <th>2</th>\n      <td>29749.0</td>\n    </tr>\n    <tr>\n      <th>3</th>\n      <td>32341.0</td>\n    </tr>\n    <tr>\n      <th>4</th>\n      <td>17284.0</td>\n    </tr>\n    <tr>\n      <th rowspan=\"4\" valign=\"top\">Web</th>\n      <th>1</th>\n      <td>2197.0</td>\n    </tr>\n    <tr>\n      <th>2</th>\n      <td>3563.0</td>\n    </tr>\n    <tr>\n      <th>3</th>\n      <td>1160.0</td>\n    </tr>\n    <tr>\n      <th>4</th>\n      <td>134.0</td>\n    </tr>\n    <tr>\n      <th rowspan=\"10\" valign=\"top\">Sydney</th>\n      <th rowspan=\"4\" valign=\"top\">Catalog</th>\n      <th>1</th>\n      <td>989.0</td>\n    </tr>\n    <tr>\n      <th>2</th>\n      <td>2371.0</td>\n    </tr>\n    <tr>\n      <th>3</th>\n      <td>1031.0</td>\n    </tr>\n    <tr>\n      <th>4</th>\n      <td>1080.0</td>\n    </tr>\n    <tr>\n      <th rowspan=\"4\" valign=\"top\">Store</th>\n      <th>1</th>\n      <td>3397.0</td>\n    </tr>\n    <tr>\n      <th>2</th>\n      <td>5328.0</td>\n    </tr>\n    <tr>\n      <th>3</th>\n      <td>5458.0</td>\n    </tr>\n    <tr>\n      <th>4</th>\n      <td>7586.0</td>\n    </tr>\n    <tr>\n      <th rowspan=\"2\" valign=\"top\">Web</th>\n      <th>2</th>\n      <td>2645.0</td>\n    </tr>\n    <tr>\n      <th>3</th>\n      <td>104.0</td>\n    </tr>\n    <tr>\n      <th rowspan=\"12\" valign=\"top\">Tokyo</th>\n      <th rowspan=\"4\" valign=\"top\">Catalog</th>\n      <th>1</th>\n      <td>2767.0</td>\n    </tr>\n    <tr>\n      <th>2</th>\n      <td>3168.0</td>\n    </tr>\n    <tr>\n      <th>3</th>\n      <td>3246.0</td>\n    </tr>\n    <tr>\n      <th>4</th>\n      <td>2922.0</td>\n    </tr>\n    <tr>\n      <th rowspan=\"4\" valign=\"top\">Store</th>\n      <th>1</th>\n      <td>12502.0</td>\n    </tr>\n    <tr>\n      <th>2</th>\n      <td>12058.0</td>\n    </tr>\n    <tr>\n      <th>3</th>\n      <td>5535.0</td>\n    </tr>\n    <tr>\n      <th>4</th>\n      <td>12515.0</td>\n    </tr>\n    <tr>\n      <th rowspan=\"4\" valign=\"top\">Web</th>\n      <th>1</th>\n      <td>138.0</td>\n    </tr>\n    <tr>\n      <th>2</th>\n      <td>45.0</td>\n    </tr>\n    <tr>\n      <th>3</th>\n      <td>1760.0</td>\n    </tr>\n    <tr>\n      <th>4</th>\n      <td>60.0</td>\n    </tr>\n    <tr>\n      <th>Total</th>\n      <th></th>\n      <th></th>\n      <td>483465.0</td>\n    </tr>\n  </tbody>\n</table>\n</div>",
            "text/plain": "                           REVENUE\nWHERE    HOW     QUARTER          \nLondon   Catalog 1          7810.0\n                 2         11939.0\n                 3         13740.0\n                 4         16821.0\n         Store   1         46399.0\n                 2         22447.0\n                 3         38745.0\n                 4         43424.0\n         Web     1           773.0\n                 2          3233.0\n                 3          5820.0\n                 4          3183.0\nNew York Catalog 1           497.0\n                 2          3568.0\n                 3          3126.0\n                 4          1521.0\n         Store   1          7024.0\n                 2          7313.0\n                 3          6980.0\n                 4          6743.0\n         Web     1           136.0\n                 2          1437.0\n                 3           458.0\n                 4           320.0\nParis    Catalog 1          7687.0\n                 2          6917.0\n                 3         12954.0\n                 4          4608.0\n         Store   1         24709.0\n                 2         29749.0\n                 3         32341.0\n                 4         17284.0\n         Web     1          2197.0\n                 2          3563.0\n                 3          1160.0\n                 4           134.0\nSydney   Catalog 1           989.0\n                 2          2371.0\n                 3          1031.0\n                 4          1080.0\n         Store   1          3397.0\n                 2          5328.0\n                 3          5458.0\n                 4          7586.0\n         Web     2          2645.0\n                 3           104.0\nTokyo    Catalog 1          2767.0\n                 2          3168.0\n                 3          3246.0\n                 4          2922.0\n         Store   1         12502.0\n                 2         12058.0\n                 3          5535.0\n                 4         12515.0\n         Web     1           138.0\n                 2            45.0\n                 3          1760.0\n                 4            60.0\nTotal                     483465.0"
          },
          "metadata": {}
        }
      ]
    },
    {
      "metadata": {
        "trusted": true
      },
      "cell_type": "code",
      "source": "60/483465",
      "execution_count": 77,
      "outputs": [
        {
          "output_type": "execute_result",
          "execution_count": 77,
          "data": {
            "text/plain": "0.00012410412335949863"
          },
          "metadata": {}
        }
      ]
    },
    {
      "metadata": {},
      "cell_type": "markdown",
      "source": "#### c) What percent of Sydney's annual sales was its Catalog sales?\n\n"
    },
    {
      "metadata": {
        "trusted": true
      },
      "cell_type": "code",
      "source": "pd.pivot_table(df[df[\"WHERE\"]=='Sydney'],\n               index = [\"WHERE\", \"HOW\"], \n               values = 'REVENUE', \n               aggfunc = np.sum, margins=True, margins_name = 'Total')",
      "execution_count": 83,
      "outputs": [
        {
          "output_type": "execute_result",
          "execution_count": 83,
          "data": {
            "text/html": "<div>\n<style>\n    .dataframe thead tr:only-child th {\n        text-align: right;\n    }\n\n    .dataframe thead th {\n        text-align: left;\n    }\n\n    .dataframe tbody tr th {\n        vertical-align: top;\n    }\n</style>\n<table border=\"1\" class=\"dataframe\">\n  <thead>\n    <tr style=\"text-align: right;\">\n      <th></th>\n      <th></th>\n      <th>REVENUE</th>\n    </tr>\n    <tr>\n      <th>WHERE</th>\n      <th>HOW</th>\n      <th></th>\n    </tr>\n  </thead>\n  <tbody>\n    <tr>\n      <th rowspan=\"3\" valign=\"top\">Sydney</th>\n      <th>Catalog</th>\n      <td>5471.0</td>\n    </tr>\n    <tr>\n      <th>Store</th>\n      <td>21769.0</td>\n    </tr>\n    <tr>\n      <th>Web</th>\n      <td>2749.0</td>\n    </tr>\n    <tr>\n      <th>Total</th>\n      <th></th>\n      <td>29989.0</td>\n    </tr>\n  </tbody>\n</table>\n</div>",
            "text/plain": "                REVENUE\nWHERE  HOW             \nSydney Catalog   5471.0\n       Store    21769.0\n       Web       2749.0\nTotal           29989.0"
          },
          "metadata": {}
        }
      ]
    },
    {
      "metadata": {
        "trusted": true
      },
      "cell_type": "code",
      "source": "5471/29989\n",
      "execution_count": 84,
      "outputs": [
        {
          "output_type": "execute_result",
          "execution_count": 84,
          "data": {
            "text/plain": "0.18243355897162292"
          },
          "metadata": {}
        }
      ]
    },
    {
      "metadata": {},
      "cell_type": "markdown",
      "source": "#### e) What was the value of Camel saddle sales for Paris in 2002 by quarter?"
    },
    {
      "metadata": {
        "trusted": true
      },
      "cell_type": "code",
      "source": "pd.pivot_table(df[(df['WHERE']==\"Paris\") & (df['WHAT']==\"Camel saddle\")],\n                index = ['WHAT',\"QUARTER\"], \n                values = \"REVENUE\",\n                aggfunc = np.sum, margins = True, margins_name = \"Total\" )",
      "execution_count": 103,
      "outputs": [
        {
          "output_type": "execute_result",
          "execution_count": 103,
          "data": {
            "text/html": "<div>\n<style>\n    .dataframe thead tr:only-child th {\n        text-align: right;\n    }\n\n    .dataframe thead th {\n        text-align: left;\n    }\n\n    .dataframe tbody tr th {\n        vertical-align: top;\n    }\n</style>\n<table border=\"1\" class=\"dataframe\">\n  <thead>\n    <tr style=\"text-align: right;\">\n      <th></th>\n      <th></th>\n      <th>REVENUE</th>\n    </tr>\n    <tr>\n      <th>WHAT</th>\n      <th>QUARTER</th>\n      <th></th>\n    </tr>\n  </thead>\n  <tbody>\n    <tr>\n      <th rowspan=\"4\" valign=\"top\">Camel saddle</th>\n      <th>1</th>\n      <td>13156.0</td>\n    </tr>\n    <tr>\n      <th>2</th>\n      <td>14950.0</td>\n    </tr>\n    <tr>\n      <th>3</th>\n      <td>24518.0</td>\n    </tr>\n    <tr>\n      <th>4</th>\n      <td>8372.0</td>\n    </tr>\n    <tr>\n      <th>Total</th>\n      <th></th>\n      <td>60996.0</td>\n    </tr>\n  </tbody>\n</table>\n</div>",
            "text/plain": "                      REVENUE\nWHAT         QUARTER         \nCamel saddle 1        13156.0\n             2        14950.0\n             3        24518.0\n             4         8372.0\nTotal                 60996.0"
          },
          "metadata": {}
        }
      ]
    },
    {
      "metadata": {},
      "cell_type": "markdown",
      "source": "#### f) How many Elephant polo sticks were sold in New York in each month of 2002?"
    },
    {
      "metadata": {
        "trusted": true
      },
      "cell_type": "code",
      "source": "pd.pivot_table(df[(df['WHERE']==\"New York\") & (df['WHAT']==\"Elephant polo stick\")],\n                index = ['WHAT',\"MONTH\"],\n                values = \"REVENUE\",\n                aggfunc = np.sum, margins = True, margins_name = \"Total\" )",
      "execution_count": 102,
      "outputs": [
        {
          "output_type": "execute_result",
          "execution_count": 102,
          "data": {
            "text/html": "<div>\n<style>\n    .dataframe thead tr:only-child th {\n        text-align: right;\n    }\n\n    .dataframe thead th {\n        text-align: left;\n    }\n\n    .dataframe tbody tr th {\n        vertical-align: top;\n    }\n</style>\n<table border=\"1\" class=\"dataframe\">\n  <thead>\n    <tr style=\"text-align: right;\">\n      <th></th>\n      <th></th>\n      <th>REVENUE</th>\n    </tr>\n    <tr>\n      <th>WHAT</th>\n      <th>MONTH</th>\n      <th></th>\n    </tr>\n  </thead>\n  <tbody>\n    <tr>\n      <th rowspan=\"7\" valign=\"top\">Elephant polo stick</th>\n      <th>3</th>\n      <td>1760.0</td>\n    </tr>\n    <tr>\n      <th>4</th>\n      <td>2464.0</td>\n    </tr>\n    <tr>\n      <th>5</th>\n      <td>704.0</td>\n    </tr>\n    <tr>\n      <th>7</th>\n      <td>352.0</td>\n    </tr>\n    <tr>\n      <th>8</th>\n      <td>1760.0</td>\n    </tr>\n    <tr>\n      <th>9</th>\n      <td>704.0</td>\n    </tr>\n    <tr>\n      <th>12</th>\n      <td>2464.0</td>\n    </tr>\n    <tr>\n      <th>Total</th>\n      <th></th>\n      <td>10208.0</td>\n    </tr>\n  </tbody>\n</table>\n</div>",
            "text/plain": "                           REVENUE\nWHAT                MONTH         \nElephant polo stick 3       1760.0\n                    4       2464.0\n                    5        704.0\n                    7        352.0\n                    8       1760.0\n                    9        704.0\n                    12      2464.0\nTotal                      10208.0"
          },
          "metadata": {}
        }
      ]
    },
    {
      "metadata": {
        "trusted": true
      },
      "cell_type": "code",
      "source": "",
      "execution_count": null,
      "outputs": []
    }
  ],
  "metadata": {
    "kernelspec": {
      "name": "python36",
      "display_name": "Python 3.6",
      "language": "python"
    },
    "language_info": {
      "mimetype": "text/x-python",
      "nbconvert_exporter": "python",
      "name": "python",
      "pygments_lexer": "ipython3",
      "version": "3.6.6",
      "file_extension": ".py",
      "codemirror_mode": {
        "version": 3,
        "name": "ipython"
      }
    }
  },
  "nbformat": 4,
  "nbformat_minor": 1
}